{
 "cells": [
  {
   "cell_type": "markdown",
   "id": "64db6f99-4272-48ae-9eb1-bc52ef8f7d5f",
   "metadata": {},
   "source": [
    "## Benchmarks "
   ]
  },
  {
   "cell_type": "markdown",
   "id": "724f0b52-4b3c-47c8-aaaf-506113c02c9d",
   "metadata": {},
   "source": [
    "**Read data**"
   ]
  },
  {
   "cell_type": "code",
   "execution_count": 1,
   "id": "a331d4a7-f526-4b77-83fd-3a2afecd225a",
   "metadata": {
    "tags": []
   },
   "outputs": [],
   "source": [
    "import xarray as xr\n",
    "train_ds = xr.open_mfdataset(\"data/train/*\", engine='zarr')\n",
    "test_ds = xr.open_mfdataset(\"data/test/*\", engine='zarr')"
   ]
  },
  {
   "cell_type": "markdown",
   "id": "c8801112-f24c-4800-ad30-8ff2a8b446da",
   "metadata": {},
   "source": [
    "#### Quantile Mapping"
   ]
  },
  {
   "cell_type": "code",
   "execution_count": 2,
   "id": "f3da447b-d6e0-4976-8a93-e159b8cc077b",
   "metadata": {
    "tags": []
   },
   "outputs": [],
   "source": [
    "import numpy as np\n",
    "from xclim import sdba\n",
    "\n",
    "train_ds.ecmwf.attrs['units'] = \"\"\n",
    "train_ds.chirps.attrs['units'] = \"\"\n",
    "train_ds = train_ds.chunk(dict(time=-1))\n",
    "\n",
    "# Fit QM model\n",
    "QM = sdba.EmpiricalQuantileMapping.train(\n",
    "    train_ds.chirps, train_ds.ecmwf, nquantiles=np.arange(0, 1.1, 0.1), group=\"time\",\n",
    ")"
   ]
  },
  {
   "cell_type": "code",
   "execution_count": 4,
   "id": "317679ba-aa85-4eae-ae36-b6a9593b8d8d",
   "metadata": {
    "tags": []
   },
   "outputs": [],
   "source": [
    "test_ds.ecmwf.attrs['units'] = \"\"\n",
    "test_ds = test_ds.chunk(dict(time=-1))\n",
    "\n",
    "# Bias correct test forecasts\n",
    "test_qm = QM.adjust(test_ds.ecmwf, interp=\"linear\", extrapolation=\"constant\")"
   ]
  },
  {
   "cell_type": "code",
   "execution_count": 3,
   "id": "57cf55a3-cd46-4248-be91-716a32bdb71e",
   "metadata": {
    "tags": []
   },
   "outputs": [],
   "source": [
    "# Bias correct train forecasts for SPI computation\n",
    "train_qm = QM.adjust(train_ds.ecmwf, interp=\"linear\", extrapolation=\"constant\")"
   ]
  },
  {
   "cell_type": "code",
   "execution_count": 5,
   "id": "3cc39042-d071-4c09-bb4b-a97c6913d48e",
   "metadata": {
    "tags": []
   },
   "outputs": [
    {
     "data": {
      "text/plain": [
       "<xarray.backends.zarr.ZarrStore at 0x7fdcdc09a740>"
      ]
     },
     "execution_count": 5,
     "metadata": {},
     "output_type": "execute_result"
    }
   ],
   "source": [
    "# Save results\n",
    "test_qm.to_zarr(\"data/benchmarks_results/QM/test_quantile_mapping.zarr\")"
   ]
  },
  {
   "cell_type": "code",
   "execution_count": 5,
   "id": "2d0ae9c0-1e82-43fa-93a9-0fb79c20e986",
   "metadata": {
    "tags": []
   },
   "outputs": [
    {
     "data": {
      "text/plain": [
       "<xarray.backends.zarr.ZarrStore at 0x7f9bc72810c0>"
      ]
     },
     "execution_count": 5,
     "metadata": {},
     "output_type": "execute_result"
    },
    {
     "name": "stderr",
     "output_type": "stream",
     "text": [
      "/envs/shared/hdc/lib/python3.10/site-packages/rasterio/warp.py:344: NotGeoreferencedWarning: Dataset has no geotransform, gcps, or rpcs. The identity matrix will be returned.\n",
      "  _reproject(\n"
     ]
    }
   ],
   "source": [
    "# Save results\n",
    "train_qm.to_zarr(\"data/benchmarks_results/QM/train_quantile_mapping.zarr\")"
   ]
  },
  {
   "cell_type": "markdown",
   "id": "79656b05-2b3d-4bbd-b567-62c1fcd824ac",
   "metadata": {},
   "source": [
    "#### Bilinear interpolation"
   ]
  },
  {
   "cell_type": "code",
   "execution_count": 6,
   "id": "67f3d68a-a38f-4653-8c80-fadb888b89e8",
   "metadata": {
    "tags": []
   },
   "outputs": [],
   "source": [
    "import hdc.algo\n",
    "import rioxarray\n",
    "import numpy as np\n",
    "import xarray as xr\n",
    "\n",
    "from hip.analysis.aoi.analysis_area import AnalysisArea"
   ]
  },
  {
   "cell_type": "code",
   "execution_count": 9,
   "id": "b712b05b-5a9f-43b8-b6f6-0a1ef0155b07",
   "metadata": {
    "tags": []
   },
   "outputs": [
    {
     "name": "stderr",
     "output_type": "stream",
     "text": [
      "WARNING:root:nodata attribute is not set in the product '['ECMWF', 'RFH_FORECASTS_SEAS5_ISSUE2']'. Computing without masking nodata values.\n",
      "WARNING:root:nodata attribute is not set in the product '['ECMWF', 'RFH_FORECASTS_SEAS5_ISSUE10']'. Computing without masking nodata values.\n",
      "WARNING:root:nodata attribute is not set in the product '['ECMWF', 'RFH_FORECASTS_SEAS5_ISSUE11']'. Computing without masking nodata values.\n",
      "WARNING:root:nodata attribute is not set in the product '['ECMWF', 'RFH_FORECASTS_SEAS5_ISSUE12']'. Computing without masking nodata values.\n"
     ]
    }
   ],
   "source": [
    "BBOX = (28.125,-29.875,41.875,-10.125)\n",
    "area = AnalysisArea(bbox=BBOX, resolution=.05, datetime_range='1981-01-01/2023-12-31')\n",
    "\n",
    "# Read issue month forecasts\n",
    "def read_one_issue_month_forecasts(issue: int):\n",
    "    da = area.get_dataset(\n",
    "        [\"ECMWF\",f\"RFH_FORECASTS_SEAS5_ISSUE{issue}_DAILY\"],\n",
    "        load_config={\n",
    "            \"gridded_load_kwargs\": {\n",
    "             \"resampling\": \"bilinear\",\n",
    "            }\n",
    "        }\n",
    "    ).sel(ensemble=0)\n",
    "    da = da.where(da.time.dt.month == issue, drop=True)\n",
    "    return da\n",
    "\n",
    "da_all_months = xr.concat([read_one_issue_month_forecasts(i) for i in range(1, 13)], dim='time') "
   ]
  },
  {
   "cell_type": "code",
   "execution_count": 11,
   "id": "a4c6834c-96e2-4e94-9cb7-74b008a80e76",
   "metadata": {
    "tags": []
   },
   "outputs": [],
   "source": [
    "# Sum by dekad\n",
    "fc = da_all_months.groupby(da_all_months.time.dekad.start_date).sum()\n",
    "\n",
    "# Transpose dimensions\n",
    "fc = fc.transpose('latitude', 'longitude', 'time')\n",
    "\n",
    "# Drop spatial_ref\n",
    "fc = fc.drop_vars('spatial_ref')\n",
    "\n",
    "# Select time steps\n",
    "train = fc.sel(time = train_ds.time)\n",
    "test = fc.sel(time = test_ds.time)"
   ]
  },
  {
   "cell_type": "code",
   "execution_count": 12,
   "id": "e3422355-3ef6-401e-ba24-5009c0f1592f",
   "metadata": {
    "tags": []
   },
   "outputs": [],
   "source": [
    "# Filter wet season\n",
    "START_SEASON = 10\n",
    "END_SEASON = 4\n",
    "\n",
    "train = train.where(train.time.dt.month.isin((np.arange(START_SEASON-1, END_SEASON+12)%12)+1), drop=True)\n",
    "test = test.where(test.time.dt.month.isin((np.arange(START_SEASON-1, END_SEASON+12)%12)+1), drop=True)"
   ]
  },
  {
   "cell_type": "code",
   "execution_count": 13,
   "id": "4ad603c5-6268-4014-b7c7-f8faa30f6e95",
   "metadata": {
    "tags": []
   },
   "outputs": [],
   "source": [
    "# Keep coordinates of 28*28 square\n",
    "train = train.sel(latitude=train_ds.latitude, longitude=train_ds.longitude)\n",
    "test = test.sel(latitude=test_ds.latitude, longitude=test_ds.longitude)"
   ]
  },
  {
   "cell_type": "code",
   "execution_count": 11,
   "id": "f1f7a9fe-b329-425a-8c08-100c4c271cac",
   "metadata": {
    "tags": []
   },
   "outputs": [],
   "source": [
    "# Rename dataarray\n",
    "train = train.rename('bilint')\n",
    "test = test.rename('bilint')"
   ]
  },
  {
   "cell_type": "code",
   "execution_count": 14,
   "id": "1c3238f1-7e42-4f1e-a87b-930065b22020",
   "metadata": {
    "tags": []
   },
   "outputs": [
    {
     "data": {
      "text/plain": [
       "<xarray.backends.zarr.ZarrStore at 0x7f9b8d9058c0>"
      ]
     },
     "execution_count": 14,
     "metadata": {},
     "output_type": "execute_result"
    }
   ],
   "source": [
    "# Save bilinear interpolation benchmark\n",
    "train.to_zarr(\"data/benchmarks_results/bilinear/train_bilinear.zarr\")\n",
    "test.to_zarr(\"data/benchmarks_results/bilinear/test_bilinear.zarr\")"
   ]
  }
 ],
 "metadata": {
  "kernelspec": {
   "display_name": "hdc",
   "language": "python",
   "name": "conda-env-hdc-py"
  },
  "language_info": {
   "codemirror_mode": {
    "name": "ipython",
    "version": 3
   },
   "file_extension": ".py",
   "mimetype": "text/x-python",
   "name": "python",
   "nbconvert_exporter": "python",
   "pygments_lexer": "ipython3",
   "version": "3.10.14"
  }
 },
 "nbformat": 4,
 "nbformat_minor": 5
}
